{
 "cells": [
  {
   "cell_type": "markdown",
   "id": "5bab73e4-5cc3-4df9-b437-bc8c235f4cfa",
   "metadata": {},
   "source": [
    "## Simulating a markov chain"
   ]
  },
  {
   "cell_type": "markdown",
   "id": "8a41042c-7fa8-4e55-9bb0-47a018428981",
   "metadata": {},
   "source": [
    "### Importing libraries"
   ]
  },
  {
   "cell_type": "code",
   "execution_count": 1,
   "id": "ba6c4f6c-2c89-441c-b298-bcf448cf9dae",
   "metadata": {},
   "outputs": [],
   "source": [
    "import numpy as np\n",
    "from scipy import stats\n",
    "import matplotlib.pyplot as plt\n",
    "plt.rcParams['text.usetex'] = True\n",
    "plt.style.use(\"science\")\n",
    "import math\n",
    "import matplotlib as mpl\n",
    "from random import shuffle\n",
    "import pandas as pd\n",
    "import networkx as nx\n",
    "np.random.seed = 123"
   ]
  },
  {
   "cell_type": "markdown",
   "id": "c6cd3391-840f-4af3-a9ef-2cae7621c781",
   "metadata": {},
   "source": [
    "### Discrete time Markov Chain"
   ]
  },
  {
   "cell_type": "markdown",
   "id": "37ad176a-ba20-4716-9145-12b617f3a30f",
   "metadata": {},
   "source": [
    "Let\n",
    "\n",
    "- $Z_1, Z_2, Z_3, ...$ be a sequence of random variables\n",
    "\n",
    "The process $\\{Z_1, Z_2, Z_3, ...\\}$ is a markov chain iif the future of the chain is determined only by its present \n",
    "\n",
    "$$\n",
    "Pr(Z_n = i_n / Z_{n-1}=i_{n-1}, ..., Z_0 = i_0) = Pr(Z_n = i_n / Z_{n-1} = i_{n-1})\n",
    "$$"
   ]
  },
  {
   "cell_type": "markdown",
   "id": "d33e19ee-049a-4be7-a93e-78976942b598",
   "metadata": {},
   "source": [
    "### Simulating a Markov Chain"
   ]
  },
  {
   "cell_type": "markdown",
   "id": "d6767d3e-5e6d-49be-aeab-a53489cc5090",
   "metadata": {},
   "source": [
    "We can simulate a markov chain by the following algorithm\n",
    "\n",
    "- Draw $Z_0 \\sim \\mu_0$ such that $P(Z_o = i) = \\mu_0(i)$\n",
    "- Draw $Z_1 \\sim P$ such that $P(Z_1 = j / Z_0 = i) = p_{ij}$\n",
    "and so on"
   ]
  },
  {
   "cell_type": "code",
   "execution_count": 2,
   "id": "2b78ebe3-73aa-4260-99d0-24b4f398268d",
   "metadata": {},
   "outputs": [],
   "source": [
    "def simulate_markov_chain(mu_0:np.array, P:np.matrix, size:int):\n",
    "    markov_chain = []\n",
    "    # Number of states\n",
    "    N = mu_0.size\n",
    "    # States of the chain\n",
    "    states = list(range(N))\n",
    "    # Sample z0 initial state\n",
    "    z0 = np.random.choice(states, p = mu_0)\n",
    "    # Add z0 to the chain\n",
    "    markov_chain.append(z0)\n",
    "    for n in range(2, size):\n",
    "        # Value of the current stats z_n\n",
    "        zn = markov_chain[-1]\n",
    "        # Sample the value of the next state z_n+1\n",
    "        next = np.random.choice(states, p = P[zn, :])\n",
    "        # Add the sampled value to the chain\n",
    "        markov_chain.append(next)\n",
    "    # Return the simulated chain\n",
    "    return markov_chain"
   ]
  },
  {
   "cell_type": "markdown",
   "id": "e9738a78-a747-44b1-bcbe-9b09f6b9b2ec",
   "metadata": {},
   "source": [
    "**Initial distribution of a random walker**"
   ]
  },
  {
   "cell_type": "code",
   "execution_count": 3,
   "id": "c26ca6a9-d40a-46b9-a836-04119ce5fcb5",
   "metadata": {},
   "outputs": [
    {
     "data": {
      "text/plain": [
       "array([0.1, 0.1, 0.1, 0.1, 0.1, 0.1, 0.1, 0.1, 0.1, 0.1])"
      ]
     },
     "execution_count": 3,
     "metadata": {},
     "output_type": "execute_result"
    }
   ],
   "source": [
    "n = 10\n",
    "mu_0 = np.repeat(1., n) / n\n",
    "mu_0"
   ]
  },
  {
   "cell_type": "markdown",
   "id": "90be207c-3ba9-4c3a-ac13-e5518b2b4ef6",
   "metadata": {},
   "source": [
    "**Transition probability matrix**"
   ]
  },
  {
   "cell_type": "markdown",
   "id": "92d06992-aaff-4195-a497-e54c5929f28d",
   "metadata": {},
   "source": [
    "$$\n",
    "P = (p_{i,j})\n",
    "$$\n",
    "with\n",
    "$$\n",
    "p_{i,j} = Pr(Z_n = j / Z_{n-1} = i)\n",
    "$$"
   ]
  },
  {
   "cell_type": "code",
   "execution_count": 4,
   "id": "27a1b48e-1f69-41e1-93ca-330d0f8bb595",
   "metadata": {},
   "outputs": [
    {
     "data": {
      "text/plain": [
       "array([[0. , 1. , 0. , 0. , 0. , 0. , 0. , 0. , 0. , 0. ],\n",
       "       [0.5, 0. , 0.5, 0. , 0. , 0. , 0. , 0. , 0. , 0. ],\n",
       "       [0. , 0.5, 0. , 0.5, 0. , 0. , 0. , 0. , 0. , 0. ],\n",
       "       [0. , 0. , 0.5, 0. , 0.5, 0. , 0. , 0. , 0. , 0. ],\n",
       "       [0. , 0. , 0. , 0.5, 0. , 0.5, 0. , 0. , 0. , 0. ],\n",
       "       [0. , 0. , 0. , 0. , 0.5, 0. , 0.5, 0. , 0. , 0. ],\n",
       "       [0. , 0. , 0. , 0. , 0. , 0.5, 0. , 0.5, 0. , 0. ],\n",
       "       [0. , 0. , 0. , 0. , 0. , 0. , 0.5, 0. , 0.5, 0. ],\n",
       "       [0. , 0. , 0. , 0. , 0. , 0. , 0. , 0.5, 0. , 0.5],\n",
       "       [0. , 0. , 0. , 0. , 0. , 0. , 0. , 0. , 1. , 0. ]])"
      ]
     },
     "execution_count": 4,
     "metadata": {},
     "output_type": "execute_result"
    }
   ],
   "source": [
    "P = np.zeros((n, n))\n",
    "P[0, 1] = 1\n",
    "P[n - 1, n - 2] = 1\n",
    "for i in range(1, n-1):\n",
    "    P[i, i+1] = 0.5\n",
    "    P[i, i-1] = 0.5\n",
    "P"
   ]
  },
  {
   "cell_type": "markdown",
   "id": "c97da52b-c941-40de-ab23-84c49b21acdd",
   "metadata": {},
   "source": [
    "We can check that every row of P satisfy $\\sum_j Z ̣{ij} = 1$"
   ]
  },
  {
   "cell_type": "code",
   "execution_count": 5,
   "id": "758e0f6b-8aeb-44ce-be54-2ea3c68e53ca",
   "metadata": {},
   "outputs": [
    {
     "data": {
      "text/plain": [
       "array([1., 1., 1., 1., 1., 1., 1., 1., 1., 1.])"
      ]
     },
     "execution_count": 5,
     "metadata": {},
     "output_type": "execute_result"
    }
   ],
   "source": [
    "P.sum(1)"
   ]
  },
  {
   "cell_type": "markdown",
   "id": "4bd7754a-880d-410e-a04f-c1a35f070bfd",
   "metadata": {},
   "source": [
    "**Graph**"
   ]
  },
  {
   "cell_type": "code",
   "execution_count": 6,
   "id": "43558bfa-f33e-432f-9c29-25e9807facdb",
   "metadata": {},
   "outputs": [],
   "source": [
    "g = nx.DiGraph()"
   ]
  },
  {
   "cell_type": "code",
   "execution_count": 7,
   "id": "e0a84425-3a66-4897-b072-1fed19c2a150",
   "metadata": {},
   "outputs": [],
   "source": [
    "nodes = [str(_i) for _i in list(range(n))]"
   ]
  },
  {
   "cell_type": "code",
   "execution_count": 8,
   "id": "90d8b17a-bc00-487e-bdf6-840fe9b8e0fb",
   "metadata": {},
   "outputs": [],
   "source": [
    "for node in nodes:\n",
    "    g.add_node(node)"
   ]
  },
  {
   "cell_type": "code",
   "execution_count": 9,
   "id": "7fc9ca38-5f58-4297-9296-7fa086157402",
   "metadata": {},
   "outputs": [],
   "source": [
    "for i in range(n):\n",
    "    for j in range(n):\n",
    "        if P[i,j] > 0.:\n",
    "            g.add_edge(nodes[i], nodes[j], weigths=P[i,j])\n",
    "            g.add_edge(nodes[j], nodes[i], weigths=P[i,j])"
   ]
  },
  {
   "cell_type": "code",
   "execution_count": 10,
   "id": "345a589c-4c04-493b-9cd2-27c628ef2a5d",
   "metadata": {},
   "outputs": [
    {
     "data": {
      "image/png": "[encoded data removed]",
      "text/plain": [
       "<Figure size 1000x200 with 1 Axes>"
      ]
     },
     "metadata": {},
     "output_type": "display_data"
    }
   ],
   "source": [
    "fig, ax = plt.subplots(figsize=(10, 2))\n",
    "pos = nx.circular_layout(g)\n",
    "nx.draw_networkx_nodes(g, pos, nodes, node_color = \"silver\")\n",
    "nx.draw_networkx_edges(g, pos)\n",
    "edge_labels = nx.get_edge_attributes(g, \"weigths\")\n",
    "nx.draw_networkx_edge_labels(g, pos, edge_labels)\n",
    "nx.draw_networkx_labels(g, pos)\n",
    "plt.axis(\"off\")\n",
    "plt.show()"
   ]
  },
  {
   "cell_type": "markdown",
   "id": "3afde72b-066d-4567-951d-16c14db76f85",
   "metadata": {},
   "source": [
    "### n-transition matrix"
   ]
  },
  {
   "cell_type": "markdown",
   "id": "ba80c605-3c5b-4ceb-b549-619128edd32a",
   "metadata": {},
   "source": [
    "The n-transition matrix is the matrix\n",
    "$$\n",
    "P_n = P * P .... * P = P^n \n",
    "$$"
   ]
  },
  {
   "cell_type": "code",
   "execution_count": 11,
   "id": "dcc29c78-f67b-4ab3-8d4b-c404cff5787b",
   "metadata": {},
   "outputs": [],
   "source": [
    "def n_transition_matrix(P:np.array, n):\n",
    "    return P**n"
   ]
  },
  {
   "cell_type": "markdown",
   "id": "83199538-ca33-4fb3-a270-52940c99c913",
   "metadata": {},
   "source": [
    "$P^{(5)} = (p_{ij}) = P^{5}$ is 5-step transition matrix.\n",
    "\n",
    "$p^{(5)}_{ij}$ is the probability of going from i to j in 5 steps."
   ]
  },
  {
   "cell_type": "code",
   "execution_count": 12,
   "id": "1d8d6986-955c-4702-aed7-c3e5384d457b",
   "metadata": {},
   "outputs": [
    {
     "data": {
      "text/plain": [
       "array([[0.     , 1.     , 0.     , 0.     , 0.     , 0.     , 0.     ,\n",
       "        0.     , 0.     , 0.     ],\n",
       "       [0.03125, 0.     , 0.03125, 0.     , 0.     , 0.     , 0.     ,\n",
       "        0.     , 0.     , 0.     ],\n",
       "       [0.     , 0.03125, 0.     , 0.03125, 0.     , 0.     , 0.     ,\n",
       "        0.     , 0.     , 0.     ],\n",
       "       [0.     , 0.     , 0.03125, 0.     , 0.03125, 0.     , 0.     ,\n",
       "        0.     , 0.     , 0.     ],\n",
       "       [0.     , 0.     , 0.     , 0.03125, 0.     , 0.03125, 0.     ,\n",
       "        0.     , 0.     , 0.     ],\n",
       "       [0.     , 0.     , 0.     , 0.     , 0.03125, 0.     , 0.03125,\n",
       "        0.     , 0.     , 0.     ],\n",
       "       [0.     , 0.     , 0.     , 0.     , 0.     , 0.03125, 0.     ,\n",
       "        0.03125, 0.     , 0.     ],\n",
       "       [0.     , 0.     , 0.     , 0.     , 0.     , 0.     , 0.03125,\n",
       "        0.     , 0.03125, 0.     ],\n",
       "       [0.     , 0.     , 0.     , 0.     , 0.     , 0.     , 0.     ,\n",
       "        0.03125, 0.     , 0.03125],\n",
       "       [0.     , 0.     , 0.     , 0.     , 0.     , 0.     , 0.     ,\n",
       "        0.     , 1.     , 0.     ]])"
      ]
     },
     "execution_count": 12,
     "metadata": {},
     "output_type": "execute_result"
    }
   ],
   "source": [
    "P5 = n_transition_matrix(P, 5)\n",
    "P5"
   ]
  },
  {
   "cell_type": "markdown",
   "id": "3d2165e6-396a-4633-b4b7-c1154f3f2ddb",
   "metadata": {},
   "source": [
    "### Convergence of P"
   ]
  },
  {
   "cell_type": "code",
   "execution_count": 13,
   "id": "f0656c07-6c5b-4e9a-8751-da18cf454880",
   "metadata": {},
   "outputs": [],
   "source": [
    "m = 7\n",
    "Pn = [P**n for n in range(1, m + 1)]"
   ]
  },
  {
   "cell_type": "code",
   "execution_count": 14,
   "id": "663e2b5a-64b0-40cf-92e1-fc774e8269cb",
   "metadata": {},
   "outputs": [
    {
     "data": {
      "image/png": "[encoded data removed]",
      "text/plain": [
       "<Figure size 1000x1000 with 7 Axes>"
      ]
     },
     "metadata": {},
     "output_type": "display_data"
    }
   ],
   "source": [
    "fig, axes = plt.subplots(1, m, figsize=(10, 10))\n",
    "for i in range(m):\n",
    "    axes[i].imshow(Pn[i])\n",
    "plt.show()"
   ]
  },
  {
   "cell_type": "markdown",
   "id": "942e0120-e0b8-4c10-b636-7ae036810bf8",
   "metadata": {},
   "source": [
    "P converge to the following matrix"
   ]
  },
  {
   "cell_type": "code",
   "execution_count": 15,
   "id": "8fa8cc7d-b1cd-413a-8a07-771bb3a39942",
   "metadata": {},
   "outputs": [
    {
     "data": {
      "text/plain": [
       "array([[0., 1., 0., 0., 0., 0., 0., 0., 0., 0.],\n",
       "       [0., 0., 0., 0., 0., 0., 0., 0., 0., 0.],\n",
       "       [0., 0., 0., 0., 0., 0., 0., 0., 0., 0.],\n",
       "       [0., 0., 0., 0., 0., 0., 0., 0., 0., 0.],\n",
       "       [0., 0., 0., 0., 0., 0., 0., 0., 0., 0.],\n",
       "       [0., 0., 0., 0., 0., 0., 0., 0., 0., 0.],\n",
       "       [0., 0., 0., 0., 0., 0., 0., 0., 0., 0.],\n",
       "       [0., 0., 0., 0., 0., 0., 0., 0., 0., 0.],\n",
       "       [0., 0., 0., 0., 0., 0., 0., 0., 0., 0.],\n",
       "       [0., 0., 0., 0., 0., 0., 0., 0., 1., 0.]])"
      ]
     },
     "execution_count": 15,
     "metadata": {},
     "output_type": "execute_result"
    }
   ],
   "source": [
    "Pstar = P**100\n",
    "Pstar[Pstar <= 1e-3] = 0.\n",
    "Pstar"
   ]
  },
  {
   "cell_type": "markdown",
   "id": "150bc358-f355-4ca8-b28c-55ef231b1c82",
   "metadata": {},
   "source": [
    "**Marginal probabilities**"
   ]
  },
  {
   "cell_type": "markdown",
   "id": "1fdf0406-5648-4443-b63e-e044fc133a77",
   "metadata": {},
   "source": [
    "$$\n",
    "\\mu_n = \\mu_0 P^n\n",
    "$$"
   ]
  },
  {
   "cell_type": "code",
   "execution_count": 16,
   "id": "f3d64bc8-7711-470a-9612-73e41bfc7fd5",
   "metadata": {},
   "outputs": [
    {
     "data": {
      "text/plain": [
       "array([0. , 0.1, 0. , 0. , 0. , 0. , 0. , 0. , 0.1, 0. ])"
      ]
     },
     "execution_count": 16,
     "metadata": {},
     "output_type": "execute_result"
    }
   ],
   "source": [
    "# Marginal pronabilities when n->infty\n",
    "mu_0 @ Pstar"
   ]
  },
  {
   "cell_type": "markdown",
   "id": "d91b1aa8-df20-4be8-8ddf-5c460f0daddb",
   "metadata": {},
   "source": [
    "**Simulate the chain**"
   ]
  },
  {
   "cell_type": "code",
   "execution_count": 17,
   "id": "df3a2414-8679-42b6-8908-959d7b054cad",
   "metadata": {},
   "outputs": [],
   "source": [
    "s = simulate_markov_chain(mu_0, P, 100)"
   ]
  },
  {
   "cell_type": "code",
   "execution_count": 18,
   "id": "b263ffad-c7a3-4472-b94c-c3100355de0e",
   "metadata": {},
   "outputs": [
    {
     "data": {
      "image/png": "[encoded data removed]",
      "text/plain": [
       "<Figure size 350x262.5 with 1 Axes>"
      ]
     },
     "metadata": {},
     "output_type": "display_data"
    }
   ],
   "source": [
    "plt.plot(s, color = \"blue\")\n",
    "plt.xlabel(\"time\")\n",
    "plt.ylabel(r\"$Z_t$\")\n",
    "plt.show()"
   ]
  },
  {
   "cell_type": "markdown",
   "id": "bfcf7e04-8f0f-4440-bdf0-477081cbe487",
   "metadata": {},
   "source": [
    "**Simulate multiple chains**"
   ]
  },
  {
   "cell_type": "code",
   "execution_count": 19,
   "id": "ec5f0de1-59d9-43a1-adb8-5c57588e6a94",
   "metadata": {},
   "outputs": [
    {
     "data": {
      "image/png": "[encoded data removed]",
      "text/plain": [
       "<Figure size 350x262.5 with 1 Axes>"
      ]
     },
     "metadata": {},
     "output_type": "display_data"
    }
   ],
   "source": [
    "n_chains = 3\n",
    "size = 10000\n",
    "for i in range(n_chains):\n",
    "    plt.plot(simulate_markov_chain(mu_0, P, 100))\n",
    "plt.xlabel(\"time\")\n",
    "plt.ylabel(r\"$Z_t$\")\n",
    "plt.show()"
   ]
  },
  {
   "cell_type": "code",
   "execution_count": null,
   "id": "35fce4a8-72b9-41fc-bfbb-fc13e0ca69cb",
   "metadata": {},
   "outputs": [],
   "source": []
  }
 ],
 "metadata": {
  "kernelspec": {
   "display_name": "Python 3 (ipykernel)",
   "language": "python",
   "name": "python3"
  },
  "language_info": {
   "codemirror_mode": {
    "name": "ipython",
    "version": 3
   },
   "file_extension": ".py",
   "mimetype": "text/x-python",
   "name": "python",
   "nbconvert_exporter": "python",
   "pygments_lexer": "ipython3",
   "version": "3.11.5"
  }
 },
 "nbformat": 4,
 "nbformat_minor": 5
}
